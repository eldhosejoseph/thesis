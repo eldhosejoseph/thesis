{
  "nbformat": 4,
  "nbformat_minor": 0,
  "metadata": {
    "colab": {
      "provenance": [],
      "authorship_tag": "ABX9TyMw4FtHQZ+kcp6EO5Y5E5Vd",
      "include_colab_link": true
    },
    "kernelspec": {
      "name": "python3",
      "display_name": "Python 3"
    },
    "language_info": {
      "name": "python"
    }
  },
  "cells": [
    {
      "cell_type": "markdown",
      "metadata": {
        "id": "view-in-github",
        "colab_type": "text"
      },
      "source": [
        "<a href=\"https://colab.research.google.com/github/eldhosejoseph/thesis/blob/main/BCI.ipynb\" target=\"_parent\"><img src=\"https://colab.research.google.com/assets/colab-badge.svg\" alt=\"Open In Colab\"/></a>"
      ]
    },
    {
      "cell_type": "markdown",
      "source": [
        "Links:\n",
        "\n",
        "Thesis\n",
        "======\n",
        "Lit Rev. doc:\n",
        "\n",
        "https://essexuniversity-my.sharepoint.com/:w:/g/personal/ej23373_essex_ac_uk/ETT7lRYeuXtPtblJcIEk8RoBCZQh4n3iwu6D9PdIGTfqIg?e=85Tcdg\n",
        "\n",
        "Lit Rev. excel\n",
        "\n",
        "https://essexuniversity-my.sharepoint.com/:x:/g/personal/ej23373_essex_ac_uk/EcJZ_XBNmeJDnpupWDcv3d8BSXQg_tGeqG7sapKg2hQPsQ?e=VfMMKz\n",
        "\n",
        "Link doc\n",
        "\n",
        "https://essexuniversity-my.sharepoint.com/:w:/g/personal/ej23373_essex_ac_uk/Ec8YxFG32FJJsTI_q4_fxZkBXSzl8kM7KdRIbC3ODjDmHg?e=UGIrrR"
      ],
      "metadata": {
        "id": "HfRIeJ7wN-ob"
      }
    }
  ]
}