{
  "nbformat": 4,
  "nbformat_minor": 0,
  "metadata": {
    "colab": {
      "provenance": [],
      "authorship_tag": "ABX9TyMwSo+8Mb8VQiLrWNkYx7Q/",
      "include_colab_link": true
    },
    "kernelspec": {
      "name": "python3",
      "display_name": "Python 3"
    },
    "language_info": {
      "name": "python"
    }
  },
  "cells": [
    {
      "cell_type": "markdown",
      "metadata": {
        "id": "view-in-github",
        "colab_type": "text"
      },
      "source": [
        "<a href=\"https://colab.research.google.com/github/eldhosejoseph/thesis/blob/main/BCI.ipynb\" target=\"_parent\"><img src=\"https://colab.research.google.com/assets/colab-badge.svg\" alt=\"Open In Colab\"/></a>"
      ]
    },
    {
      "cell_type": "markdown",
      "source": [
        "Links:\n",
        "\n",
        "Thesis\n",
        "======\n",
        "Lit Rev. doc:\n",
        "\n",
        "https://essexuniversity-my.sharepoint.com/:w:/g/personal/ej23373_essex_ac_uk/ETT7lRYeuXtPtblJcIEk8RoBCZQh4n3iwu6D9PdIGTfqIg?e=85Tcdg\n",
        "\n",
        "Lit Rev. excel\n",
        "\n",
        "https://essexuniversity-my.sharepoint.com/:x:/g/personal/ej23373_essex_ac_uk/EcJZ_XBNmeJDnpupWDcv3d8BSXQg_tGeqG7sapKg2hQPsQ?e=VfMMKz\n",
        "\n",
        "Link doc\n",
        "\n",
        "https://essexuniversity-my.sharepoint.com/:w:/g/personal/ej23373_essex_ac_uk/Ec8YxFG32FJJsTI_q4_fxZkBXSzl8kM7KdRIbC3ODjDmHg?e=UGIrrR\n",
        "\n",
        "\n",
        "Thesis meeting link\n",
        "\n",
        "https://essexuniversity-my.sharepoint.com/:w:/r/personal/ej23373_essex_ac_uk/_layouts/15/Doc.aspx?sourcedoc=%7B643F9DC8-2E85-4125-B005-BACF65A8209B%7D&file=Thesis-Term3-Meeting%20Notes.docx&action=default&mobileredirect=true&DefaultItemOpen=1&login_hint=ej23373%40essex.ac.uk&ct=1718975916814&wdOrigin=OFFICECOM-WEB.MAIN.REC&cid=4861056d-f36b-4977-b756-b9b5e94250e8&wdPreviousSessionSrc=HarmonyWeb&wdPreviousSession=4500332f-d0be-48f2-b358-b1a4a32a7b84"
      ],
      "metadata": {
        "id": "HfRIeJ7wN-ob"
      }
    }
  ]
}