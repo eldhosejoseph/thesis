{
  "nbformat": 4,
  "nbformat_minor": 0,
  "metadata": {
    "colab": {
      "provenance": [],
      "authorship_tag": "ABX9TyPDr8mHeR97XgCiXOPhMTLt",
      "include_colab_link": true
    },
    "kernelspec": {
      "name": "python3",
      "display_name": "Python 3"
    },
    "language_info": {
      "name": "python"
    }
  },
  "cells": [
    {
      "cell_type": "markdown",
      "metadata": {
        "id": "view-in-github",
        "colab_type": "text"
      },
      "source": [
        "<a href=\"https://colab.research.google.com/github/eldhosejoseph/thesis/blob/main/BCI.ipynb\" target=\"_parent\"><img src=\"https://colab.research.google.com/assets/colab-badge.svg\" alt=\"Open In Colab\"/></a>"
      ]
    },
    {
      "cell_type": "code",
      "execution_count": 1,
      "metadata": {
        "colab": {
          "base_uri": "https://localhost:8080/"
        },
        "id": "9FMqgDE4LPJs",
        "outputId": "3e0dac52-056f-4375-bec3-7a0b1bd23ca3"
      },
      "outputs": [
        {
          "output_type": "stream",
          "name": "stdout",
          "text": [
            "Collecting mne\n",
            "  Downloading mne-1.6.1-py3-none-any.whl (8.3 MB)\n",
            "\u001b[2K     \u001b[90m━━━━━━━━━━━━━━━━━━━━━━━━━━━━━━━━━━━━━━━━\u001b[0m \u001b[32m8.3/8.3 MB\u001b[0m \u001b[31m26.8 MB/s\u001b[0m eta \u001b[36m0:00:00\u001b[0m\n",
            "\u001b[?25hRequirement already satisfied: numpy>=1.21.2 in /usr/local/lib/python3.10/dist-packages (from mne) (1.25.2)\n",
            "Requirement already satisfied: scipy>=1.7.1 in /usr/local/lib/python3.10/dist-packages (from mne) (1.11.4)\n",
            "Requirement already satisfied: matplotlib>=3.5.0 in /usr/local/lib/python3.10/dist-packages (from mne) (3.7.1)\n",
            "Requirement already satisfied: tqdm in /usr/local/lib/python3.10/dist-packages (from mne) (4.66.2)\n",
            "Requirement already satisfied: pooch>=1.5 in /usr/local/lib/python3.10/dist-packages (from mne) (1.8.1)\n",
            "Requirement already satisfied: decorator in /usr/local/lib/python3.10/dist-packages (from mne) (4.4.2)\n",
            "Requirement already satisfied: packaging in /usr/local/lib/python3.10/dist-packages (from mne) (23.2)\n",
            "Requirement already satisfied: jinja2 in /usr/local/lib/python3.10/dist-packages (from mne) (3.1.3)\n",
            "Requirement already satisfied: lazy-loader>=0.3 in /usr/local/lib/python3.10/dist-packages (from mne) (0.3)\n",
            "Requirement already satisfied: contourpy>=1.0.1 in /usr/local/lib/python3.10/dist-packages (from matplotlib>=3.5.0->mne) (1.2.0)\n",
            "Requirement already satisfied: cycler>=0.10 in /usr/local/lib/python3.10/dist-packages (from matplotlib>=3.5.0->mne) (0.12.1)\n",
            "Requirement already satisfied: fonttools>=4.22.0 in /usr/local/lib/python3.10/dist-packages (from matplotlib>=3.5.0->mne) (4.49.0)\n",
            "Requirement already satisfied: kiwisolver>=1.0.1 in /usr/local/lib/python3.10/dist-packages (from matplotlib>=3.5.0->mne) (1.4.5)\n",
            "Requirement already satisfied: pillow>=6.2.0 in /usr/local/lib/python3.10/dist-packages (from matplotlib>=3.5.0->mne) (9.4.0)\n",
            "Requirement already satisfied: pyparsing>=2.3.1 in /usr/local/lib/python3.10/dist-packages (from matplotlib>=3.5.0->mne) (3.1.1)\n",
            "Requirement already satisfied: python-dateutil>=2.7 in /usr/local/lib/python3.10/dist-packages (from matplotlib>=3.5.0->mne) (2.8.2)\n",
            "Requirement already satisfied: platformdirs>=2.5.0 in /usr/local/lib/python3.10/dist-packages (from pooch>=1.5->mne) (4.2.0)\n",
            "Requirement already satisfied: requests>=2.19.0 in /usr/local/lib/python3.10/dist-packages (from pooch>=1.5->mne) (2.31.0)\n",
            "Requirement already satisfied: MarkupSafe>=2.0 in /usr/local/lib/python3.10/dist-packages (from jinja2->mne) (2.1.5)\n",
            "Requirement already satisfied: six>=1.5 in /usr/local/lib/python3.10/dist-packages (from python-dateutil>=2.7->matplotlib>=3.5.0->mne) (1.16.0)\n",
            "Requirement already satisfied: charset-normalizer<4,>=2 in /usr/local/lib/python3.10/dist-packages (from requests>=2.19.0->pooch>=1.5->mne) (3.3.2)\n",
            "Requirement already satisfied: idna<4,>=2.5 in /usr/local/lib/python3.10/dist-packages (from requests>=2.19.0->pooch>=1.5->mne) (3.6)\n",
            "Requirement already satisfied: urllib3<3,>=1.21.1 in /usr/local/lib/python3.10/dist-packages (from requests>=2.19.0->pooch>=1.5->mne) (2.0.7)\n",
            "Requirement already satisfied: certifi>=2017.4.17 in /usr/local/lib/python3.10/dist-packages (from requests>=2.19.0->pooch>=1.5->mne) (2024.2.2)\n",
            "Installing collected packages: mne\n",
            "Successfully installed mne-1.6.1\n"
          ]
        }
      ],
      "source": [
        "!pip install mne"
      ]
    },
    {
      "cell_type": "code",
      "source": [
        "\n",
        "import mne\n",
        "import os\n",
        "import pandas as pd\n",
        "import numpy as np"
      ],
      "metadata": {
        "id": "IcDLchSYLptR"
      },
      "execution_count": 2,
      "outputs": []
    },
    {
      "cell_type": "code",
      "source": [
        "!git clone https://github.com/OpenNeuroDatasets/ds004511.git"
      ],
      "metadata": {
        "colab": {
          "base_uri": "https://localhost:8080/"
        },
        "id": "diSqa1h9Mzhv",
        "outputId": "941525bc-9165-4568-c935-1d9ed06f5e18"
      },
      "execution_count": 3,
      "outputs": [
        {
          "output_type": "stream",
          "name": "stdout",
          "text": [
            "Cloning into 'ds004511'...\n",
            "remote: Enumerating objects: 4554, done.\u001b[K\n",
            "remote: Counting objects: 100% (4554/4554), done.\u001b[K\n",
            "remote: Compressing objects: 100% (2983/2983), done.\u001b[K\n",
            "remote: Total 4554 (delta 592), reused 4535 (delta 573), pack-reused 0\u001b[K\n",
            "Receiving objects: 100% (4554/4554), 2.74 MiB | 13.56 MiB/s, done.\n",
            "Resolving deltas: 100% (592/592), done.\n"
          ]
        }
      ]
    },
    {
      "cell_type": "code",
      "source": [
        "!pip install PyQt5\n"
      ],
      "metadata": {
        "colab": {
          "base_uri": "https://localhost:8080/"
        },
        "id": "DNz5YnLnmR_D",
        "outputId": "56ebbe82-2e75-4ca4-eb6f-51d9035a2408"
      },
      "execution_count": 4,
      "outputs": [
        {
          "output_type": "stream",
          "name": "stdout",
          "text": [
            "Collecting PyQt5\n",
            "  Downloading PyQt5-5.15.10-cp37-abi3-manylinux_2_17_x86_64.whl (8.2 MB)\n",
            "\u001b[2K     \u001b[90m━━━━━━━━━━━━━━━━━━━━━━━━━━━━━━━━━━━━━━━━\u001b[0m \u001b[32m8.2/8.2 MB\u001b[0m \u001b[31m614.5 kB/s\u001b[0m eta \u001b[36m0:00:00\u001b[0m\n",
            "\u001b[?25hCollecting PyQt5-sip<13,>=12.13 (from PyQt5)\n",
            "  Downloading PyQt5_sip-12.13.0-cp310-cp310-manylinux_2_5_x86_64.manylinux1_x86_64.whl (338 kB)\n",
            "\u001b[2K     \u001b[90m━━━━━━━━━━━━━━━━━━━━━━━━━━━━━━━━━━━━━━━━\u001b[0m \u001b[32m338.1/338.1 kB\u001b[0m \u001b[31m544.0 kB/s\u001b[0m eta \u001b[36m0:00:00\u001b[0m\n",
            "\u001b[?25hCollecting PyQt5-Qt5>=5.15.2 (from PyQt5)\n",
            "  Downloading PyQt5_Qt5-5.15.2-py3-none-manylinux2014_x86_64.whl (59.9 MB)\n",
            "\u001b[2K     \u001b[90m━━━━━━━━━━━━━━━━━━━━━━━━━━━━━━━━━━━━━━━━\u001b[0m \u001b[32m59.9/59.9 MB\u001b[0m \u001b[31m1.4 MB/s\u001b[0m eta \u001b[36m0:00:00\u001b[0m\n",
            "\u001b[?25hInstalling collected packages: PyQt5-Qt5, PyQt5-sip, PyQt5\n",
            "Successfully installed PyQt5-5.15.10 PyQt5-Qt5-5.15.2 PyQt5-sip-12.13.0\n"
          ]
        }
      ]
    },
    {
      "cell_type": "code",
      "source": [
        "import matplotlib\n",
        "matplotlib.use('agg')"
      ],
      "metadata": {
        "id": "oqmpp4aFlyCN"
      },
      "execution_count": 6,
      "outputs": []
    },
    {
      "cell_type": "code",
      "source": [
        "dataset_path = \"ds004511\""
      ],
      "metadata": {
        "id": "4nFwJNcHLsvw"
      },
      "execution_count": 7,
      "outputs": []
    },
    {
      "cell_type": "code",
      "source": [
        "url=\"sub-S200120/ses-01/eeg/sub-S200120_ses-01_task-CC_run-01_channels.tsv\""
      ],
      "metadata": {
        "id": "Eyf_J3NoRgAt"
      },
      "execution_count": null,
      "outputs": []
    },
    {
      "cell_type": "code",
      "source": [
        "url=\"sub-S200120/ses-01/eeg/sub-S200120_ses-01_task-GG_run-01_channels.tsv\""
      ],
      "metadata": {
        "id": "caPCWLtShEl4"
      },
      "execution_count": 8,
      "outputs": []
    },
    {
      "cell_type": "code",
      "source": [
        "# Assuming eeg_data_path is the path to your EEG data file\n",
        "eeg_data_path = os.path.join(dataset_path, url)\n",
        "\n",
        "try:\n",
        "    # Attempt to read the TSV file with tab-separated values, skipping lines with bad data\n",
        "    eeg_data = pd.read_csv(eeg_data_path, sep='\\t', error_bad_lines=False)\n",
        "\n",
        "    # Remove non-numeric columns\n",
        "    eeg_data = eeg_data.select_dtypes(include=[np.number])\n",
        "\n",
        "     # Replace infs and NaNs with appropriate values\n",
        "    eeg_data.replace([np.inf, -np.inf], np.nan, inplace=True)\n",
        "    eeg_data.fillna(0, inplace=True)  # Replace NaNs with 0\n",
        "    # Extract channel names and create MNE info object\n",
        "    ch_names = eeg_data.columns.tolist()\n",
        "    sfreq = 3000  # Example sampling frequency (adjust according to your data)\n",
        "    info = mne.create_info(ch_names=ch_names, sfreq=sfreq, ch_types='eeg')\n",
        "\n",
        "    # Create MNE Raw object\n",
        "    raw = mne.io.RawArray(eeg_data.values.T, info)\n",
        "    if len(raw.times) == 0:\n",
        "        raise ValueError(\"Empty raw object. No data found.\")\n",
        "    raw.filter(l_freq=1.0, h_freq=None)\n",
        "    print(raw.info)\n",
        "    raw.plot()\n",
        "\n",
        "except ValueError:\n",
        "    # Handle the case where the file contains non-numeric data\n",
        "    print(\"Error: TSV file contains non-numeric data.\")"
      ],
      "metadata": {
        "colab": {
          "base_uri": "https://localhost:8080/"
        },
        "id": "GRJvNsDpk7LO",
        "outputId": "80327f09-9a9e-4e61-b997-7d68c2b4f94e"
      },
      "execution_count": 40,
      "outputs": [
        {
          "output_type": "stream",
          "name": "stdout",
          "text": [
            "Creating RawArray with float64 data, n_channels=4, n_times=139\n",
            "    Range : 0 ... 138 =      0.000 ...     0.046 secs\n",
            "Ready.\n",
            "Filtering raw data in 1 contiguous segment\n",
            "Setting up high-pass filter at 1 Hz\n",
            "\n",
            "FIR filter parameters\n",
            "---------------------\n",
            "Designing a one-pass, zero-phase, non-causal highpass filter:\n",
            "- Windowed time-domain design (firwin) method\n",
            "- Hamming window with 0.0194 passband ripple and 53 dB stopband attenuation\n",
            "- Lower passband edge: 1.00\n",
            "- Lower transition bandwidth: 1.00 Hz (-6 dB cutoff frequency: 0.50 Hz)\n",
            "- Filter length: 9901 samples (3.300 s)\n",
            "\n"
          ]
        },
        {
          "output_type": "stream",
          "name": "stderr",
          "text": [
            "<ipython-input-40-e8e90a34613f>:6: FutureWarning: The error_bad_lines argument has been deprecated and will be removed in a future version. Use on_bad_lines in the future.\n",
            "\n",
            "\n",
            "  eeg_data = pd.read_csv(eeg_data_path, sep='\\t', error_bad_lines=False)\n",
            "<ipython-input-40-e8e90a34613f>:23: RuntimeWarning: filter_length (9901) is longer than the signal (139), distortion is likely. Reduce filter length or filter a longer signal.\n",
            "  raw.filter(l_freq=1.0, h_freq=None)\n"
          ]
        },
        {
          "output_type": "stream",
          "name": "stdout",
          "text": [
            "<Info | 7 non-empty values\n",
            " bads: []\n",
            " ch_names: low_cutoff, high_cutoff, sampling_frequency, status_description\n",
            " chs: 4 EEG\n",
            " custom_ref_applied: False\n",
            " highpass: 1.0 Hz\n",
            " lowpass: 1500.0 Hz\n",
            " meas_date: unspecified\n",
            " nchan: 4\n",
            " projs: []\n",
            " sfreq: 3000.0 Hz\n",
            ">\n"
          ]
        }
      ]
    },
    {
      "cell_type": "code",
      "source": [
        "# 1. Check for bad channels using variance\n",
        "# Compute variance along each channel\n",
        "channel_variance = raw._data.var(axis=1)\n",
        "\n",
        "# Set a threshold for variance to identify potential bad channels\n",
        "variance_threshold = 1e-6  # Adjust as per your data\n",
        "bad_channels = [ch for ch, var in zip(raw.ch_names, channel_variance) if var < variance_threshold]\n",
        "\n",
        "print(\"Bad channels:\", bad_channels)"
      ],
      "metadata": {
        "colab": {
          "base_uri": "https://localhost:8080/"
        },
        "id": "TGYWziFETjVc",
        "outputId": "2dc01de9-cce7-4d01-827e-57b1dfa2156a"
      },
      "execution_count": 41,
      "outputs": [
        {
          "output_type": "stream",
          "name": "stdout",
          "text": [
            "Bad channels: ['low_cutoff', 'status_description']\n"
          ]
        }
      ]
    },
    {
      "cell_type": "code",
      "source": [
        "import traceback\n",
        "try:\n",
        "    # Perform ICA fitting\n",
        "    #n_components = min(20, len(raw.ch_names))\n",
        "    n_components=4\n",
        "    ica = mne.preprocessing.ICA(n_components=n_components, random_state=97)\n",
        "    ica.fit(raw)\n",
        "\n",
        "    # Plot components\n",
        "    ica.plot_components(raw)\n",
        "\n",
        "except IndexError as e:\n",
        "    # Handle the IndexError and print the full traceback\n",
        "    print(\"IndexError occurred during ICA fitting:\")\n",
        "    traceback.print_exc()\n",
        "except Exception as e:\n",
        "    # Handle other unexpected errors and print the full traceback\n",
        "    print(\"Unexpected error occurred during ICA fitting:\")\n",
        "    traceback.print_exc()"
      ],
      "metadata": {
        "id": "oIr5yWKTTEFT"
      },
      "execution_count": null,
      "outputs": []
    },
    {
      "cell_type": "code",
      "source": [
        "raw.compute_psd(fmax=50).plot(picks=\"data\", exclude=\"bads\", amplitude=False)\n",
        "raw.plot(duration=5, n_channels=9)"
      ],
      "metadata": {
        "colab": {
          "base_uri": "https://localhost:8080/",
          "height": 949
        },
        "id": "HI3mKIXDVV96",
        "outputId": "0cfc0341-57d1-4812-bfcf-77fa5da30bad"
      },
      "execution_count": 43,
      "outputs": [
        {
          "output_type": "stream",
          "name": "stdout",
          "text": [
            "Effective window size : 0.046 (s)\n"
          ]
        },
        {
          "output_type": "stream",
          "name": "stderr",
          "text": [
            "<ipython-input-43-7579b94c97ab>:1: UserWarning: Zero value in spectrum for channels low_cutoff, status_description\n",
            "  raw.compute_psd(fmax=50).plot(picks=\"data\", exclude=\"bads\", amplitude=False)\n",
            "<ipython-input-43-7579b94c97ab>:1: UserWarning: Infinite value in PSD for channels low_cutoff, status_description.\n",
            "These channels might be dead.\n",
            "  raw.compute_psd(fmax=50).plot(picks=\"data\", exclude=\"bads\", amplitude=False)\n",
            "<ipython-input-43-7579b94c97ab>:1: RuntimeWarning: Channel locations not available. Disabling spatial colors.\n",
            "  raw.compute_psd(fmax=50).plot(picks=\"data\", exclude=\"bads\", amplitude=False)\n"
          ]
        },
        {
          "output_type": "execute_result",
          "data": {
            "text/plain": [
              "<MNEBrowseFigure size 800x800 with 4 Axes>"
            ],
            "image/png": "[encoded data removed]"
          },
          "metadata": {},
          "execution_count": 43
        }
      ]
    },
    {
      "cell_type": "code",
      "source": [
        "raw.plot()"
      ],
      "metadata": {
        "id": "FUZr4NWBUaej",
        "colab": {
          "base_uri": "https://localhost:8080/",
          "height": 810
        },
        "outputId": "d33b130f-6195-47b5-a067-3a3825819a81"
      },
      "execution_count": 44,
      "outputs": [
        {
          "output_type": "execute_result",
          "data": {
            "text/plain": [
              "<MNEBrowseFigure size 800x800 with 4 Axes>"
            ],
            "image/png": "[encoded data removed]"
          },
          "metadata": {},
          "execution_count": 44
        }
      ]
    },
    {
      "cell_type": "code",
      "source": [
        "raw.close()"
      ],
      "metadata": {
        "id": "x4jIof6hNRRP"
      },
      "execution_count": 31,
      "outputs": []
    }
  ]
}