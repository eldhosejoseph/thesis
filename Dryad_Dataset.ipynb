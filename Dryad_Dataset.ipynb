{
  "nbformat": 4,
  "nbformat_minor": 0,
  "metadata": {
    "colab": {
      "provenance": [],
      "authorship_tag": "ABX9TyMkICBkGP7fzKSSNMrNA7dm",
      "include_colab_link": true
    },
    "kernelspec": {
      "name": "python3",
      "display_name": "Python 3"
    },
    "language_info": {
      "name": "python"
    }
  },
  "cells": [
    {
      "cell_type": "markdown",
      "metadata": {
        "id": "view-in-github",
        "colab_type": "text"
      },
      "source": [
        "<a href=\"https://colab.research.google.com/github/eldhosejoseph/thesis/blob/main/Dryad_Dataset.ipynb\" target=\"_parent\"><img src=\"https://colab.research.google.com/assets/colab-badge.svg\" alt=\"Open In Colab\"/></a>"
      ]
    },
    {
      "cell_type": "markdown",
      "source": [
        "# DRYAD DATASET"
      ],
      "metadata": {
        "id": "OHAvXCVcY6lq"
      }
    },
    {
      "cell_type": "markdown",
      "source": [
        "[Data from: A novel algorithm to enhance P300 in single trials: application to lie detection using F-score and SVM] : https://datadryad.org/stash/dataset/doi:10.5061/dryad.2qc64\n",
        "\n",
        "paper: https://doi.org/10.1371/journal.pone.0109700"
      ],
      "metadata": {
        "id": "8ZTMMU7BZDkq"
      }
    },
    {
      "cell_type": "markdown",
      "source": [
        "**EEG Data Acquisition**\n",
        "\n",
        "Twelve electrodes (Fp1, Fp2, F3, Fz, F4, C3, Cz, C4, P3, Pz, P4, Oz) from an International 10–20 system were used. The vertical EOG (VEOG) signal was recorded from the right eye (2.5 cm below and above the pupil), and the horizontal EOG (HEOG) signal was recorded from the outer canthus. EEG and EOG signals were filtered online with a band pass filter of 0.1–30 Hz, and they were digitized at 500 Hz using Neuroscan Synamps. All of the electrodes were referenced to the right earlobe. Electrode impedances did not exceed 2 k.\n",
        "\n",
        "**Experimental Protocol**\n",
        "\n",
        "The standard three-stimuli protocol [10], [12] was employed in this study. The participants were randomly divided into two groups: a guilty group and an innocent group. Six different jewels were prepared, and their pictures served as stimuli during detection. A safe that contained one (for the innocent) or two (for the guilty) jewels was given to each participant. They were instructed to open the safe and memorize the details of the object. We instructed the guilty group to steal only one object which would serve as the P stimulus. The other object in the safe was the T stimulus, and the remaining four pictures were the I stimuli. The object in the safe was not stolen for the innocent, which served as the T stimulus. Then, from the remaining five pictures, one picture was selected randomly and set as the P stimulus, and the remaining four images were set as I stimuli. All of the subjects were instructed to write down the information on the objects in the safe, such as the styles and colors of the jewels.\n",
        "\n",
        "After the preparation tasks introduced above, the participants began to perform the detection. They were seated in a chair, facing a video screen that was approximately 1 m away from their eyes. The stimuli pictures were presented randomly on the screen. Each item remained for 0.5 s with 30 iterations for one session, and each session lasted for approximately 5 minutes, with 2 minutes of resting time. The inter-stimulus interval was 1.6 s. Each subject was instructed to perform 5 sessions. The stimuli sequence diagram is given in Figure 1. One push button was given to each subject, and he or she was asked to press a “Yes” and “No” button when faced with familiar and unknown items, respectively.\n",
        "\n",
        "\n",
        "\n",
        "The guilty group was instructed to press the “Yes” and “No” button when faced with the T and I stimuli, respectively. With a P stimulus, they were asked to press the “No” button, attempting to hide the stolen act. In contrast, the innocent group made honest responses to all of the stimuli. All of the subjects had practiced the tasks above before the EEG signals were recorded formally. We planned to exclude any subjects that had more than a 5% clicking error, but none fell into this category. Finally, a sketch map is presented and shown in Figure 2 to describe above protocol.\n",
        "\n"
      ],
      "metadata": {
        "id": "qGQdDl_-ZPyb"
      }
    },
    {
      "cell_type": "markdown",
      "source": [],
      "metadata": {
        "id": "2QkYOYHvZ7cS"
      }
    },
    {
      "cell_type": "code",
      "source": [],
      "metadata": {
        "id": "lTmpXnjgZOy9"
      },
      "execution_count": null,
      "outputs": []
    },
    {
      "cell_type": "code",
      "execution_count": null,
      "metadata": {
        "id": "KLeCIMzWY2xI"
      },
      "outputs": [],
      "source": []
    }
  ]
}