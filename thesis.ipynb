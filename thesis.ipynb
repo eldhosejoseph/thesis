{
  "nbformat": 4,
  "nbformat_minor": 0,
  "metadata": {
    "colab": {
      "provenance": [],
      "authorship_tag": "ABX9TyNpC9t/B4j0Rwc8aZUQUfOB",
      "include_colab_link": true
    },
    "kernelspec": {
      "name": "python3",
      "display_name": "Python 3"
    },
    "language_info": {
      "name": "python"
    }
  },
  "cells": [
    {
      "cell_type": "markdown",
      "metadata": {
        "id": "view-in-github",
        "colab_type": "text"
      },
      "source": [
        "<a href=\"https://colab.research.google.com/github/eldhosejoseph/thesis/blob/main/thesis.ipynb\" target=\"_parent\"><img src=\"https://colab.research.google.com/assets/colab-badge.svg\" alt=\"Open In Colab\"/></a>"
      ]
    },
    {
      "cell_type": "markdown",
      "source": [
        "# Datasets\n",
        "\n",
        "word link: https://essexuniversity-my.sharepoint.com/:w:/r/personal/ej23373_essex_ac_uk/_layouts/15/doc2.aspx?sourcedoc=%7B662A4E77-C405-427C-B638-3BE77C26C15D%7D&file=Datasets.docx&action=default&mobileredirect=true&DefaultItemOpen=1&ct=1716458088490&wdOrigin=OFFICECOM-WEB.MAIN.REC&cid=0d27486e-018b-4bd5-9607-f62c8b155336&wdPreviousSessionSrc=HarmonyWeb&wdPreviousSession=f2e85dc2-29a6-4d10-932d-14c7c8a07a5c\n",
        "\n",
        "Dryad [Data from: A novel algorithm to enhance P300 in single trials: application to lie detection using F-score and SVM] : https://datadryad.org/stash/dataset/doi:10.5061/dryad.2qc64"
      ],
      "metadata": {
        "id": "xXCsR2XY4Ozq"
      }
    },
    {
      "cell_type": "markdown",
      "source": [
        "\n",
        "\n",
        "---\n",
        "\n"
      ],
      "metadata": {
        "id": "8EJqTMcl4vIo"
      }
    },
    {
      "cell_type": "markdown",
      "source": [
        "# Dryad"
      ],
      "metadata": {
        "id": "Tgivh8iQ5Hza"
      }
    },
    {
      "cell_type": "code",
      "source": [],
      "metadata": {
        "id": "hCCQ7bSZ5KPq"
      },
      "execution_count": null,
      "outputs": []
    }
  ]
}